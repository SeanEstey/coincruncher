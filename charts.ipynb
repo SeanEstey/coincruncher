{
 "cells": [
  {
   "cell_type": "code",
   "execution_count": 1,
   "metadata": {},
   "outputs": [
    {
     "name": "stdout",
     "output_type": "stream",
     "text": [
      "n_trades=54\n"
     ]
    },
    {
     "name": "stderr",
     "output_type": "stream",
     "text": [
      "/Users/seanestey/Coding/anaconda3/lib/python3.6/site-packages/ipykernel/ipkernel.py:208: PerformanceWarning:\n",
      "\n",
      "indexing past lexsort depth may impact performance.\n",
      "\n",
      "/Users/seanestey/coding/coincruncher/app/bot/macd.py:204: PerformanceWarning:\n",
      "\n",
      "indexing past lexsort depth may impact performance.\n",
      "\n",
      "/Users/seanestey/coding/coincruncher/app/bot/macd.py:215: PerformanceWarning:\n",
      "\n",
      "indexing past lexsort depth may impact performance.\n",
      "\n"
     ]
    },
    {
     "name": "stdout",
     "output_type": "stream",
     "text": [
      "108 annotations\n"
     ]
    }
   ],
   "source": [
    "import os\n",
    "from datetime import datetime, timedelta as delta\n",
    "from binance.client import Client\n",
    "import plotly.offline as offline\n",
    "import app, app.bot\n",
    "from app.bot import macd\n",
    "from docs.botconf import *\n",
    "from app.common.utils import utc_datetime as now\n",
    "\n",
    "app.set_db([\"localhost\", \"45.79.176.125\"][0])\n",
    "db = app.get_db()\n",
    "app.bot.client = Client('','')\n",
    "\n",
    "def chart_trades():\n",
    "    trades= list(db.trades.find({'status':'closed', 'start_time':{'$gte':now()-delta(hours=24)}}))\n",
    "    #trades = trades[0:6]\n",
    "    print(\"n_trades={}\".format(len(trades)))\n",
    "    fig = macd.plot(trades=trades, normalize=True)\n",
    "    pairs = [n['pair'] for n in trades]\n",
    "    file = \"{}_trades_{}.html\".format(len(pairs), str(datetime.now().date()))\n",
    "    offline.plot(fig, filename=file)\n",
    "    os.system(\"mv {} charts/\".format(file))\n",
    "\n",
    "def chart_all_enabled():\n",
    "    pairs = app.bot.get_pairs(enabled=True)\n",
    "    fig = macd.plot(pairs, '1h', startstr=\"72 hours ago utc\", normalize=True)\n",
    "    file = \"{}_{}_{}.html\".format(len(pairs), '1h', str(datetime.now().date()))\n",
    "    offline.plot(fig, filename=file)\n",
    "    os.system(\"mv {} charts/\".format(file))\n",
    "    \n",
    "    \n",
    "chart_trades()"
   ]
  },
  {
   "cell_type": "code",
   "execution_count": null,
   "metadata": {},
   "outputs": [],
   "source": []
  }
 ],
 "metadata": {
  "kernelspec": {
   "display_name": "Python 3",
   "language": "python",
   "name": "python3"
  },
  "language_info": {
   "codemirror_mode": {
    "name": "ipython",
    "version": 3
   },
   "file_extension": ".py",
   "mimetype": "text/x-python",
   "name": "python",
   "nbconvert_exporter": "python",
   "pygments_lexer": "ipython3",
   "version": "3.6.4"
  }
 },
 "nbformat": 4,
 "nbformat_minor": 2
}
