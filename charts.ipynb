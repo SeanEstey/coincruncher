{
 "cells": [
  {
   "cell_type": "code",
   "execution_count": 2,
   "metadata": {},
   "outputs": [
    {
     "name": "stderr",
     "output_type": "stream",
     "text": [
      "/Users/seanestey/coding/coincruncher/app/bot/macd.py:183: RuntimeWarning:\n",
      "\n",
      "Mean of empty slice.\n",
      "\n",
      "/Users/seanestey/Coding/anaconda3/lib/python3.6/site-packages/numpy/core/_methods.py:80: RuntimeWarning:\n",
      "\n",
      "invalid value encountered in double_scalars\n",
      "\n"
     ]
    }
   ],
   "source": [
    "import os\n",
    "from datetime import datetime\n",
    "import plotly.offline as offline\n",
    "import app\n",
    "from app.bot import macd\n",
    "from docs.botconf import trade_pairs as pairs\n",
    "app.set_db([\"localhost\", \"45.79.176.125\"][0])\n",
    "db = app.get_db()\n",
    "\n",
    "conf = [\n",
    "    {'units': ('minutes', 'm', 'T'), 'n_units':1, 'n_periods':1440},\n",
    "    {'units': ('minutes', 'm', 'T'), 'n_units':5, 'n_periods':288},\n",
    "    {'units': ('hours', 'h', 'H'), 'n_units':1, 'n_periods':24},\n",
    "    {'units': ('days', 'd', 'D'), 'n_units':1, 'n_periods':7},\n",
    "]\n",
    "\n",
    "for pair in ['NEOBTC']:\n",
    "    for c in conf:  \n",
    "        fig = macd.plot(pair, c['units'], c['n_units'], c['n_periods'])\n",
    "        file = \"{}_{}_{}.html\".format(pair, str(c['n_units'])+c['units'][1], str(datetime.now().date()))\n",
    "        offline.plot(fig, filename=file)\n",
    "        os.system(\"mv {} charts/\".format(file))"
   ]
  },
  {
   "cell_type": "code",
   "execution_count": null,
   "metadata": {},
   "outputs": [],
   "source": []
  },
  {
   "cell_type": "code",
   "execution_count": null,
   "metadata": {},
   "outputs": [],
   "source": []
  }
 ],
 "metadata": {
  "kernelspec": {
   "display_name": "Python 3",
   "language": "python",
   "name": "python3"
  },
  "language_info": {
   "codemirror_mode": {
    "name": "ipython",
    "version": 3
   },
   "file_extension": ".py",
   "mimetype": "text/x-python",
   "name": "python",
   "nbconvert_exporter": "python",
   "pygments_lexer": "ipython3",
   "version": "3.6.4"
  }
 },
 "nbformat": 4,
 "nbformat_minor": 2
}
