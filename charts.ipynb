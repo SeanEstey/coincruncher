{
 "cells": [
  {
   "cell_type": "code",
   "execution_count": 2,
   "metadata": {},
   "outputs": [
    {
     "name": "stdout",
     "output_type": "stream",
     "text": [
      "10 annotations\n",
      "2 annotations\n",
      "2 annotations\n",
      "4 annotations\n",
      "2 annotations\n",
      "8 annotations\n",
      "4 annotations\n",
      "8 annotations\n",
      "8 annotations\n",
      "8 annotations\n",
      "4 annotations\n",
      "8 annotations\n",
      "4 annotations\n",
      "8 annotations\n",
      "2 annotations\n",
      "2 annotations\n",
      "8 annotations\n",
      "8 annotations\n",
      "10 annotations\n",
      "10 annotations\n",
      "2 annotations\n",
      "10 annotations\n",
      "10 annotations\n"
     ]
    }
   ],
   "source": [
    "import os\n",
    "from datetime import datetime, timedelta as delta\n",
    "import plotly.offline as offline\n",
    "import app\n",
    "from app.bot import macd\n",
    "from docs.botconf import trade_pairs as pairs\n",
    "from app.common.utils import utc_datetime as now\n",
    "app.set_db([\"localhost\", \"45.79.176.125\"][1])\n",
    "db = app.get_db()\n",
    "periods = {\n",
    "    \"5m\":4320,\n",
    "    \"30m\":144,\n",
    "    \"1h\":72\n",
    "}\n",
    "\n",
    "for trade in db.trades.find({\"status\":\"closed\", \"start_time\":{\"$gt\":now()-delta(hours=24)}}):\n",
    "    fig = macd.plot(trade['pair'], trade['freq'], periods[trade['freq']])\n",
    "    file = \"{}_{}_{}.html\".format(trade['pair'], trade['freq'], str(datetime.now().date()))\n",
    "    offline.plot(fig, filename=file)\n",
    "    os.system(\"mv {} charts/\".format(file))"
   ]
  },
  {
   "cell_type": "code",
   "execution_count": null,
   "metadata": {},
   "outputs": [],
   "source": []
  },
  {
   "cell_type": "code",
   "execution_count": null,
   "metadata": {},
   "outputs": [],
   "source": []
  }
 ],
 "metadata": {
  "kernelspec": {
   "display_name": "Python 3",
   "language": "python",
   "name": "python3"
  },
  "language_info": {
   "codemirror_mode": {
    "name": "ipython",
    "version": 3
   },
   "file_extension": ".py",
   "mimetype": "text/x-python",
   "name": "python",
   "nbconvert_exporter": "python",
   "pygments_lexer": "ipython3",
   "version": "3.6.4"
  }
 },
 "nbformat": 4,
 "nbformat_minor": 2
}
