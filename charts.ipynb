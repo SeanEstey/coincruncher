{
 "cells": [
  {
   "cell_type": "code",
   "execution_count": 8,
   "metadata": {},
   "outputs": [
    {
     "data": {
      "text/plain": [
       "0"
      ]
     },
     "execution_count": 8,
     "metadata": {},
     "output_type": "execute_result"
    }
   ],
   "source": [
    "import os\n",
    "from datetime import datetime\n",
    "import plotly.offline as offline\n",
    "import app\n",
    "from app.bot import macd\n",
    "app.set_db([\"localhost\", \"45.79.176.125\"][0])\n",
    "db = app.get_db()\n",
    "\n",
    "pair='ETHUSDT'\n",
    "units = ('minutes', 'm', 'T')\n",
    "#n_units, n_periods = 1, 1440\n",
    "n_units, n_periods = 5, 288\n",
    "\n",
    "fig = macd.plot(pair, units, n_units, n_periods)\n",
    "file = \"{}_{}_{}.html\".format(pair, str(n_units)+units[1], str(datetime.now().date()))\n",
    "offline.plot(fig, filename=file)\n",
    "os.system(\"mv {} charts/\".format(file))"
   ]
  },
  {
   "cell_type": "code",
   "execution_count": null,
   "metadata": {},
   "outputs": [],
   "source": []
  },
  {
   "cell_type": "code",
   "execution_count": null,
   "metadata": {},
   "outputs": [],
   "source": []
  }
 ],
 "metadata": {
  "kernelspec": {
   "display_name": "Python 3",
   "language": "python",
   "name": "python3"
  },
  "language_info": {
   "codemirror_mode": {
    "name": "ipython",
    "version": 3
   },
   "file_extension": ".py",
   "mimetype": "text/x-python",
   "name": "python",
   "nbconvert_exporter": "python",
   "pygments_lexer": "ipython3",
   "version": "3.6.4"
  }
 },
 "nbformat": 4,
 "nbformat_minor": 2
}
